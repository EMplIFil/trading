{
 "cells": [
  {
   "cell_type": "code",
   "execution_count": null,
   "metadata": {},
   "outputs": [],
   "source": [
    "import pandas as pd \n",
    "import numpy as np\n",
    "import glob\n",
    "import matplotlib.pyplot as plt\n",
    "import numpy as np\n",
    "import seaborn as sns\n",
    "%matplotlib inline"
   ]
  },
  {
   "cell_type": "code",
   "execution_count": 2,
   "metadata": {},
   "outputs": [],
   "source": [
    "import datetime\n",
    "\n",
    "def xldate_to_datetime(xldate):\n",
    "    temp = datetime.datetime(1900, 1, 1)\n",
    "    delta = datetime.timedelta(days=xldate)\n",
    "    return temp+delta"
   ]
  },
  {
   "cell_type": "code",
   "execution_count": 16,
   "metadata": {},
   "outputs": [],
   "source": [
    "#which quantile bin does the days return fall into?\n",
    "#plot a histogram of each bin\n",
    "centroids = pd.read_csv('/Users/livingdharma/Downloads/ProgrammingTest/spxFwdRetHistQCentroids.csv')"
   ]
  },
  {
   "cell_type": "code",
   "execution_count": 18,
   "metadata": {},
   "outputs": [],
   "source": [
    "rtns = pd.read_csv('/Users/livingdharma/Downloads/ProgrammingTest/SpxFwdPct_Data.csv')"
   ]
  },
  {
   "cell_type": "code",
   "execution_count": 264,
   "metadata": {},
   "outputs": [],
   "source": [
    "#rtns = rtns.drop('Lookup',axis=1)\n",
    "rtns = rtns.set_index(keys='date')"
   ]
  },
  {
   "cell_type": "code",
   "execution_count": 25,
   "metadata": {},
   "outputs": [],
   "source": [
    "day_10_ma = pd.read_csv('/Users/livingdharma/Downloads/ProgrammingTest/10DAYMA.TXT')\n",
    "day_10_ma['date'] = day_10_ma['Lookup'].apply(xldate_to_datetime)"
   ]
  },
  {
   "cell_type": "code",
   "execution_count": 251,
   "metadata": {},
   "outputs": [],
   "source": [
    "\n",
    "fls1 = glob.glob('/Users/livingdharma/Downloads/ProgrammingTest/*.txt')\n",
    "fls2= glob.glob('/Users/livingdharma/Downloads/ProgrammingTest/*.TXT')\n",
    "fls_all = fls1[:1] + fls2[:5] + fls2[6:]"
   ]
  },
  {
   "cell_type": "code",
   "execution_count": 311,
   "metadata": {
    "scrolled": true
   },
   "outputs": [
    {
     "name": "stdout",
     "output_type": "stream",
     "text": [
      "1990-03-16 00:00:00 SectorCorrBD126\n",
      "1990-01-04 00:00:00 1000 - 2000 Sharpe\n",
      "1990-01-04 00:00:00 Diff10DayMA\n",
      "1990-01-04 00:00:00 % Away From 200d MA\n",
      "1990-01-04 00:00:00 Vol Dist from 21d MA of Vol\n",
      "1990-01-04 00:00:00 Lagged AD % vs. 10d MA\n",
      "1990-01-04 00:00:00 21d MA of Breakdown\n",
      "1990-01-04 00:00:00 EM - USA Sharpe\n"
     ]
    }
   ],
   "source": [
    "dfs = []\n",
    "for fl in fls_all:\n",
    "    df = pd.read_csv(fl)\n",
    "    col_name = df.columns[1]\n",
    "    df['date'] = df['Lookup'].apply(xldate_to_datetime)\n",
    "    df = df.drop('Lookup', axis=1)\n",
    "    df = df.set_index(keys='date')\n",
    "    print(df.index.min(), col_name)\n",
    "    dfs.append(df)\n",
    "    \n",
    "    \n",
    "feature_matrix_3_16 = pd.concat([df for df in dfs], join='inner', axis=1)\n",
    "feature_matrix_3_16 = feature_matrix_3_16.dropna()\n",
    "cols = feature_matrix_3_16.columns"
   ]
  },
  {
   "cell_type": "code",
   "execution_count": 312,
   "metadata": {},
   "outputs": [
    {
     "data": {
      "text/plain": [
       "5337"
      ]
     },
     "execution_count": 312,
     "metadata": {},
     "output_type": "execute_result"
    }
   ],
   "source": [
    "#run some ml stuff\n",
    "#check the 'goodness' of the model\n",
    "#normalize the columns, rerun and evaluate\n",
    "#add in other columns and rerun, evaluate\n",
    "#add in other columns normalize, rerun, evaluate\n",
    "#feature engineer the columns\n",
    "feature_matrix_3_16_wrtns = pd.concat([feature_matrix_3_16, rtns], join='inner', axis =1)\n",
    "feature_matrix_3_16_wrtns = feature_matrix_3_16_wrtns.dropna(axis=0)\n",
    "split = int(len(feature_matrix_3_16)*.8)\n",
    "split"
   ]
  },
  {
   "cell_type": "code",
   "execution_count": 323,
   "metadata": {},
   "outputs": [
    {
     "data": {
      "text/plain": [
       "LinearRegression(copy_X=True, fit_intercept=True, n_jobs=1, normalize=False)"
      ]
     },
     "execution_count": 323,
     "metadata": {},
     "output_type": "execute_result"
    }
   ],
   "source": [
    "from sklearn import linear_model\n",
    "from sklearn.metrics import mean_squared_error\n",
    "cols = feature_matrix_3_16.columns\n",
    "cols\n",
    "X_train = feature_matrix_3_16[cols][:split]\n",
    "X_test = feature_matrix_3_16[cols][split:]\n",
    "y_train = feature_matrix_3_16_wrtns['3'][:split]\n",
    "y_test = feature_matrix_3_16_wrtns['3'][split:]\n",
    "lr_model = linear_model.LinearRegression()\n",
    "lr_model.fit(X_train, y_train)"
   ]
  },
  {
   "cell_type": "code",
   "execution_count": 324,
   "metadata": {},
   "outputs": [],
   "source": [
    "y_predict = lr_model.predict(X_test)"
   ]
  },
  {
   "cell_type": "code",
   "execution_count": 325,
   "metadata": {},
   "outputs": [
    {
     "data": {
      "text/plain": [
       "0.00018516112767483678"
      ]
     },
     "execution_count": 325,
     "metadata": {},
     "output_type": "execute_result"
    }
   ],
   "source": [
    "mean_squared_error(y_test, y_predict)"
   ]
  },
  {
   "cell_type": "code",
   "execution_count": null,
   "metadata": {},
   "outputs": [],
   "source": []
  }
 ],
 "metadata": {
  "kernelspec": {
   "display_name": "Python 3",
   "language": "python",
   "name": "python3"
  },
  "language_info": {
   "codemirror_mode": {
    "name": "ipython",
    "version": 3
   },
   "file_extension": ".py",
   "mimetype": "text/x-python",
   "name": "python",
   "nbconvert_exporter": "python",
   "pygments_lexer": "ipython3",
   "version": "3.6.4"
  }
 },
 "nbformat": 4,
 "nbformat_minor": 2
}
