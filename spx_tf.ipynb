{
 "cells": [
  {
   "cell_type": "code",
   "execution_count": 22,
   "metadata": {},
   "outputs": [],
   "source": [
    "import pandas as pd \n",
    "import numpy as np\n",
    "import glob\n",
    "import matplotlib.pyplot as plt\n",
    "import numpy as np\n",
    "import seaborn as sns\n",
    "import tensorflow as tf\n",
    "%matplotlib inline\n",
    "import logging\n",
    "logging.getLogger(\"tensorflow\").setLevel(logging.ERROR)"
   ]
  },
  {
   "cell_type": "code",
   "execution_count": 2,
   "metadata": {},
   "outputs": [],
   "source": [
    "import datetime\n",
    "\n",
    "def xldate_to_datetime(xldate):\n",
    "    temp = datetime.datetime(1900, 1, 1)\n",
    "    delta = datetime.timedelta(days=xldate)\n",
    "    return temp+delta"
   ]
  },
  {
   "cell_type": "code",
   "execution_count": 3,
   "metadata": {},
   "outputs": [],
   "source": [
    "fls1 = glob.glob('/Users/livingdharma/Downloads/ProgrammingTest/*.txt')\n",
    "fls2= glob.glob('/Users/livingdharma/Downloads/ProgrammingTest/*.TXT')\n",
    "fls_all = fls1[:1] + fls2[:5] + fls2[6:]"
   ]
  },
  {
   "cell_type": "code",
   "execution_count": 4,
   "metadata": {},
   "outputs": [],
   "source": [
    "def construct_feature_matrix(fls_all):\n",
    "    '''\n",
    "    Constructs a feature matrix after some data cleaning\n",
    "    '''\n",
    "    dfs = []\n",
    "    for fl in fls_all:\n",
    "        df = pd.read_csv(fl)\n",
    "        col_name = df.columns[1]\n",
    "        df['date'] = df['Lookup'].apply(xldate_to_datetime)\n",
    "        df = df.drop('Lookup', axis=1)\n",
    "        df = df.set_index(keys='date')\n",
    "        dfs.append(df)\n",
    "\n",
    "    feature_matrix = pd.concat([df for df in dfs], join='inner', axis=1)\n",
    "    feature_matrix = feature_matrix.dropna()\n",
    "    \n",
    "    return feature_matrix\n",
    "\n",
    "\n"
   ]
  },
  {
   "cell_type": "code",
   "execution_count": 5,
   "metadata": {},
   "outputs": [],
   "source": [
    "def clean_target(path):\n",
    "    targets = pd.read_csv(path)\n",
    "    targets['date'] = targets['Lookup'].apply(xldate_to_datetime)\n",
    "    targets = targets.set_index(keys='date').drop('Lookup', axis=1).dropna()\n",
    "    return targets"
   ]
  },
  {
   "cell_type": "code",
   "execution_count": 6,
   "metadata": {},
   "outputs": [],
   "source": [
    "feature_matrix = construct_feature_matrix(fls_all)\n",
    "features = feature_matrix.columns\n",
    "targets = clean_target('/Users/livingdharma/Downloads/ProgrammingTest/SpxFwdPct_Data.csv')\n",
    "features_targets = pd.concat([feature_matrix, targets], join='inner', axis = 1)\n",
    "features_targets = features_targets.dropna(axis=0)\n",
    "split = int(len(features_targets) * .6)"
   ]
  },
  {
   "cell_type": "code",
   "execution_count": 24,
   "metadata": {},
   "outputs": [],
   "source": [
    "fc= []\n",
    "for key in feature_matrix.columns:\n",
    "    fc.append(tf.contrib.layers.real_valued_column(key.replace('%', '').replace('-', '').replace(' ', '') , dimension=1))"
   ]
  },
  {
   "cell_type": "code",
   "execution_count": 25,
   "metadata": {},
   "outputs": [],
   "source": [
    "def get_data():\n",
    "    \n",
    "    feature_cols = {k.replace('%', '').replace('-', '').replace(' ', '') : tf.constant(v.values) for k,v in idata[cols].items()}\n",
    "    labels = tf.constant((idata[day].values > 0).astype(int))\n",
    "    return feature_cols, labels                         \n",
    "                          \n",
    "model = tf.contrib.learn.DNNClassifier(feature_columns=fc,\n",
    "                    n_classes=2, hidden_units=[100, 100])"
   ]
  },
  {
   "cell_type": "code",
   "execution_count": null,
   "metadata": {},
   "outputs": [
    {
     "name": "stdout",
     "output_type": "stream",
     "text": [
      "4003\n"
     ]
    }
   ],
   "source": [
    "cols = feature_matrix.columns\n",
    "training_data = features_targets[:split].copy() \n",
    "test_data = features_targets[split:].copy() \n",
    "\n",
    "for day in ['3', '10', '21']:\n",
    "    idata = training_data\n",
    "    print(len(idata))\n",
    "    model.fit(input_fn=get_data, steps=500, )\n",
    "    idata = test_data\n",
    "    evaluate = model.evaluate(input_fn=get_data, steps=1)\n",
    "    print(len(idata))\n",
    "    pred = np.array(list(model.predict(input_fn=get_data)))\n",
    "    print(len(pred))\n",
    "    print(len(test_data))\n",
    "    test_data['prediction_{}'.format(day)] = np.where(pred > 0, 1, -1)\n",
    "    test_data['strategy_{}'.format(day)] = test_data['prediction_{}'.format(day)] * test_data[day]\n",
    "    ax = test_data[[day, 'strategy_{}'.format(day)]].cumsum(\n",
    "                  ).apply(np.exp).plot(figsize=(10, 6));\n",
    "    \n",
    "    ax.set_title('TF RNN for {} return'.format(day))"
   ]
  },
  {
   "cell_type": "code",
   "execution_count": null,
   "metadata": {},
   "outputs": [],
   "source": []
  }
 ],
 "metadata": {
  "kernelspec": {
   "display_name": "Python 3",
   "language": "python",
   "name": "python3"
  },
  "language_info": {
   "codemirror_mode": {
    "name": "ipython",
    "version": 3
   },
   "file_extension": ".py",
   "mimetype": "text/x-python",
   "name": "python",
   "nbconvert_exporter": "python",
   "pygments_lexer": "ipython3",
   "version": "3.6.4"
  }
 },
 "nbformat": 4,
 "nbformat_minor": 2
}
