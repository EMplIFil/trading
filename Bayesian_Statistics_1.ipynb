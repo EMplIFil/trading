{
 "cells": [
  {
   "cell_type": "code",
   "execution_count": 2,
   "metadata": {},
   "outputs": [],
   "source": [
    "import pandas as pd\n",
    "import numpy as np\n",
    "from scipy import stats\n",
    "import seaborn as sns\n",
    "import matplotlib\n",
    "%matplotlib inline"
   ]
  },
  {
   "cell_type": "code",
   "execution_count": null,
   "metadata": {
    "collapsed": true
   },
   "outputs": [],
   "source": [
    "#Let's simulate an experiment of coin flips\n",
    "#We'll show that as the number of coin flips increase we gain information about the \n",
    "#underlying data generating process\n",
    "number_of_trials = [0, 2, 10, 20, 50, 500]"
   ]
  },
  {
   "cell_type": "code",
   "execution_count": null,
   "metadata": {
    "collapsed": true
   },
   "outputs": [],
   "source": [
    "#Coin flips represent a bernoulli process, bernoulli is a special case of the binomial case\n",
    "#bernoulli process is a case of a memoryless process\n",
    "#each toss, is independent of the last toss\n",
    "#even if a coin is unfair, each throw's outcome is independent of the last\n",
    "data = stats.bernoulli.rvs(0.5, size=number_of_trials[-1])"
   ]
  },
  {
   "cell_type": "code",
   "execution_count": null,
   "metadata": {
    "collapsed": true
   },
   "outputs": [],
   "source": [
    "x = np.linspace(0, 1, 100)"
   ]
  },
  {
   "cell_type": "code",
   "execution_count": null,
   "metadata": {},
   "outputs": [],
   "source": [
    "for i, N in enumerate(number_of_trials):\n",
    "    heads = data[:N].sum()\n",
    "    ax = plt.subplot(len(number_of_trials) / 2, 2, i + 1)\n",
    "    ax.set_title(\"%s trials, %s heads\" % (N, heads))\n",
    "    plt.xlabel(\"$P(H)$, Probability of Heads\")\n",
    "    plt.ylabel(\"Density\")\n",
    "    \n",
    "    if i == 0:\n",
    "        plt.ylim([0.0, 2.0]) \n",
    "    plt.setp(ax.get_yticklabels(), visible=False)\n",
    "    y = stats.beta.pdf(x, 1 + heads, 1 + N - heads)\n",
    "    ax.plot(x, y, label=\"observe %d tosses,\\n %d heads\" % (N, heads))\n",
    "    plt.fill_between(x, 0, y, color=\"#aaaadd\", alpha=0.5)\n",
    "        \n",
    "plt.tight_layout()\n",
    "plt.show()"
   ]
  },
  {
   "cell_type": "code",
   "execution_count": null,
   "metadata": {
    "collapsed": true
   },
   "outputs": [],
   "source": []
  }
 ],
 "metadata": {
  "kernelspec": {
   "display_name": "Python 3",
   "language": "python",
   "name": "python3"
  },
  "language_info": {
   "codemirror_mode": {
    "name": "ipython",
    "version": 3
   },
   "file_extension": ".py",
   "mimetype": "text/x-python",
   "name": "python",
   "nbconvert_exporter": "python",
   "pygments_lexer": "ipython3",
   "version": "3.6.3"
  }
 },
 "nbformat": 4,
 "nbformat_minor": 2
}
