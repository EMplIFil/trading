{
 "cells": [
  {
   "cell_type": "markdown",
   "metadata": {},
   "source": [
    "### Momentum, Mean Reversion and the Uncovered Interest Rate Parity [(UIP)](https://www.investopedia.com/terms/u/uncoveredinterestrateparity.asp) in FX Markets\n",
    "+ Exchange rate movements should reflect changes in interest rates between currencies\n",
    "+ Using Fama and French as basis a model of log returns was created by [Balvers and Wu](https://pdfs.semanticscholar.org/c98c/533334b6962d06b44ae7a796b5fcffbe2fe4.pdf)\n",
    "    + Price is the sum of a random walk process and a stationary component\n",
    "    + stationary component represents temporary swings in price\n",
    "    + There is also a drift component and a momentum effect\n",
    "    + The drift component p is allowed to change between equities in different countries\n",
    "    + The momentum effect coefficient and temporary swings coefficient are held constant across countries\n",
    "    + [Alina Serban](http://isiarticles.com/bundles/Article/pre/pdf/14874.pdf) adapted that research to the forex market \n",
    "    + Additional paper by [Fama](https://eml.berkeley.edu/~craine/EconH195/Fall_13/webpage/Fama_Forward%20Discount.pdf)\n",
    "    \n",
    "    \n",
    "##### Serban Paper tries to find a pattern in the deviation from UIP.\n",
    "+ Mean Reversion and Momentum are two key characteristics\n",
    "+ Long run mean reversion in currencies by [Engel and Hamilton](https://econpapers.repec.org/article/aeaaecrev/v_3a80_3ay_3a1990_3ai_3a4_3ap_3a689-713.htm)\n",
    "+ [Short-term momentum affects](https://econpapers.repec.org/article/cupjfinqa/v_3a38_3ay_3a2003_3ai_3a02_3ap_3a425-447_5f00.htm) \n",
    "+ Combining these two ideas [Chiang and Jiang](chrome-extension://oemmndcbldboiebfnladdacbdfmadadm/http://isiarticles.com/bundles/Article/pre/pdf/14874.pdf#%5Bnull%2C%7B%22name%22%3A%22FitR%22%7D%2C29%2C794%2C596%2C794%5D) notice the strong correlations in the short-run (momentum) and negative correlation in the long-run (mean-reversion)\n",
    "\n",
    "#### The Serban paper combines these two momentum and mean reversion anomolies in a trading strategy"
   ]
  },
  {
   "cell_type": "code",
   "execution_count": 1,
   "metadata": {},
   "outputs": [],
   "source": [
    "from math import floor\n",
    "from sklearn.linear_model import LinearRegression\n",
    "from sklearn.ensemble import RandomForestClassifier\n",
    "from sklearn.model_selection import train_test_split as tts\n",
    "from sklearn.model_selection import TimeSeriesSplit\n",
    "from sklearn import tree\n",
    "import datetime as datetime\n",
    "\n",
    "\n",
    "import quandl as ql\n",
    "import xarray as xr\n",
    "import numpy as np\n",
    "import pandas as pd\n",
    "import matplotlib.pyplot as plt\n",
    "import seaborn as sns\n",
    "import talib\n",
    "\n",
    "%matplotlib inline\n",
    "\n",
    "\n",
    "key = ''"
   ]
  },
  {
   "cell_type": "markdown",
   "metadata": {},
   "source": [
    "#### Get our data\n",
    "+ We'll use quandl FRED database to get currencies from 2004 to the present\n",
    "+ I added AUD/USD which is not present in the original paper\n",
    "+ We use xarray to concat the data into a single dataset indexed by date and currency pair"
   ]
  },
  {
   "cell_type": "code",
   "execution_count": 2,
   "metadata": {},
   "outputs": [],
   "source": [
    "\n",
    "# pairs = dict(eur_usd=\"FRED/DEXUSEU\", \n",
    "#              aus_usd='FRED/DEXUSAL', \n",
    "#              usd_gbp='FRED/DEXUSUK',\n",
    "#              cad_usd='FRED/DEXCAUS',\n",
    "#              jpy_usd='FRED/DEXJPUS',\n",
    "#             )\n",
    "# das = []\n",
    "# for k, v in pairs.items():\n",
    "#     data = ql.get(v, start_date='2004-01-01', end_date='2019-01-14', api_key=key)\n",
    "#     das.append(xr.DataArray(data, coords=[data.index, [k]], dims=['Date', 'currency_pair']))\n",
    "# ds_currency = xr.concat(das, dim='currency_pair').to_dataset(name='price')      \n",
    "# ds_currency.to_zarr('currency_pairs_uip', 'w')"
   ]
  },
  {
   "cell_type": "code",
   "execution_count": 3,
   "metadata": {},
   "outputs": [],
   "source": [
    "ds_currency = xr.open_zarr('currency_pairs_uip')"
   ]
  },
  {
   "cell_type": "code",
   "execution_count": 4,
   "metadata": {},
   "outputs": [
    {
     "data": {
      "text/plain": [
       "0"
      ]
     },
     "execution_count": 4,
     "metadata": {},
     "output_type": "execute_result"
    }
   ],
   "source": [
    "#Lets make sure we don't have any nans\n",
    "ds_currency['price'].isnull().values.sum()"
   ]
  },
  {
   "cell_type": "markdown",
   "metadata": {},
   "source": [
    "#### Format the data according to paper spec\n",
    "+ Calculate monthly log returns\n",
    "+ Calculate a reversal and momentum factor "
   ]
  },
  {
   "cell_type": "code",
   "execution_count": 5,
   "metadata": {},
   "outputs": [
    {
     "data": {
      "text/html": [
       "<div>\n",
       "<style scoped>\n",
       "    .dataframe tbody tr th:only-of-type {\n",
       "        vertical-align: middle;\n",
       "    }\n",
       "\n",
       "    .dataframe tbody tr th {\n",
       "        vertical-align: top;\n",
       "    }\n",
       "\n",
       "    .dataframe thead th {\n",
       "        text-align: right;\n",
       "    }\n",
       "</style>\n",
       "<table border=\"1\" class=\"dataframe\">\n",
       "  <thead>\n",
       "    <tr style=\"text-align: right;\">\n",
       "      <th></th>\n",
       "      <th>aus_usd</th>\n",
       "      <th>cad_usd</th>\n",
       "      <th>eur_usd</th>\n",
       "      <th>jpy_usd</th>\n",
       "      <th>usd_gbp</th>\n",
       "    </tr>\n",
       "    <tr>\n",
       "      <th>Date</th>\n",
       "      <th></th>\n",
       "      <th></th>\n",
       "      <th></th>\n",
       "      <th></th>\n",
       "      <th></th>\n",
       "    </tr>\n",
       "  </thead>\n",
       "  <tbody>\n",
       "    <tr>\n",
       "      <th>2004-01-02</th>\n",
       "      <td>0.7576</td>\n",
       "      <td>1.2900</td>\n",
       "      <td>1.2592</td>\n",
       "      <td>106.95</td>\n",
       "      <td>1.7902</td>\n",
       "    </tr>\n",
       "    <tr>\n",
       "      <th>2004-01-05</th>\n",
       "      <td>0.7682</td>\n",
       "      <td>1.2803</td>\n",
       "      <td>1.2679</td>\n",
       "      <td>106.10</td>\n",
       "      <td>1.8085</td>\n",
       "    </tr>\n",
       "    <tr>\n",
       "      <th>2004-01-06</th>\n",
       "      <td>0.7702</td>\n",
       "      <td>1.2824</td>\n",
       "      <td>1.2773</td>\n",
       "      <td>106.20</td>\n",
       "      <td>1.8245</td>\n",
       "    </tr>\n",
       "    <tr>\n",
       "      <th>2004-01-07</th>\n",
       "      <td>0.7685</td>\n",
       "      <td>1.2884</td>\n",
       "      <td>1.2665</td>\n",
       "      <td>106.19</td>\n",
       "      <td>1.8193</td>\n",
       "    </tr>\n",
       "    <tr>\n",
       "      <th>2004-01-08</th>\n",
       "      <td>0.7755</td>\n",
       "      <td>1.2790</td>\n",
       "      <td>1.2772</td>\n",
       "      <td>106.17</td>\n",
       "      <td>1.8338</td>\n",
       "    </tr>\n",
       "  </tbody>\n",
       "</table>\n",
       "</div>"
      ],
      "text/plain": [
       "            aus_usd  cad_usd  eur_usd  jpy_usd  usd_gbp\n",
       "Date                                                   \n",
       "2004-01-02   0.7576   1.2900   1.2592   106.95   1.7902\n",
       "2004-01-05   0.7682   1.2803   1.2679   106.10   1.8085\n",
       "2004-01-06   0.7702   1.2824   1.2773   106.20   1.8245\n",
       "2004-01-07   0.7685   1.2884   1.2665   106.19   1.8193\n",
       "2004-01-08   0.7755   1.2790   1.2772   106.17   1.8338"
      ]
     },
     "execution_count": 5,
     "metadata": {},
     "output_type": "execute_result"
    }
   ],
   "source": [
    "df_currency = ds_currency.to_dataframe().unstack(level=1)\n",
    "df_currency.columns = df_currency.columns.droplevel(0)\n",
    "df_currency = df_currency.rename_axis(None, axis=1)\n",
    "df_currency.head()"
   ]
  },
  {
   "cell_type": "markdown",
   "metadata": {},
   "source": [
    "\n",
    "\n",
    "#### Algorithm Setup\n",
    "+ cycle through each of the pairs\n",
    "+ Construct your currency_pair xs and ys\n",
    "+ Perform training,test split and OLS\n",
    "+ Get a prediction\n",
    "+ Construct a date by currency pair matrix with prediction as the value\n",
    "+ Every time we have some condition then we trade\n"
   ]
  },
  {
   "cell_type": "code",
   "execution_count": 12,
   "metadata": {},
   "outputs": [],
   "source": [
    "def compute_returns(period_df, pair):\n",
    "    logged = np.log(1 + period_df.pct_change()).rename({pair: 'log_returns'})\n",
    "    return logged\n",
    "\n",
    "def compute_reversal(period_df, period, mu, sigma):\n",
    "    \n",
    "    reversal = (period_df.shift(period) - mu)/sigma\n",
    "    return reversal\n",
    "\n",
    "def compute_momentum(period_df, lag_start, lag_end):\n",
    "    momentum = period_df.shift(lag_start) - period_df.shift(lag_end)\n",
    "    return momentum\n",
    "\n",
    "def compute_factors(df,pair):\n",
    "    '''\n",
    "    Computes momentum and mean reversal factors \n",
    "    as well as log returns for each currency pair and period\n",
    "    \n",
    "    Parameters\n",
    "    ==========\n",
    "    df: pd.Dataframe of date by currency price\n",
    "    \n",
    "    \n",
    "    Returns\n",
    "    =======\n",
    "    tuple of monthly data, mu, sigma and factor and returns dataframe\n",
    "    \n",
    "    '''\n",
    "    \n",
    "    mu = df.mean()\n",
    "    sigma = df.std()\n",
    "    \n",
    "    df_monthly = df.resample('BM').apply(lambda x: x[-1])\n",
    "    \n",
    "    logged = np.log(1 + df_monthly.pct_change()).rename({pair: 'log_returns'})\n",
    "    reversal = (df_monthly.shift(1) - mu)/sigma\n",
    "    momentum = df_monthly.shift(1) - df_monthly.shift(4)\n",
    "    \n",
    "    ctd = pd.concat([reversal,momentum,logged],axis=1)\n",
    "    ctd.columns  = ['reversal', 'momentum', 'logged_returns']\n",
    "    ctd = ctd.dropna()\n",
    "    \n",
    "    return ctd\n",
    "\n",
    "\n",
    "def compute_OLS(df, pair):\n",
    "    '''\n",
    "    Parameters\n",
    "    ==========\n",
    "    df: pd.Dataframe of period by currency_pair\n",
    "    pair: str of currency pair\n",
    "    \n",
    "    \n",
    "    Returns\n",
    "    =======\n",
    "    dictionary of pd.Series of predicted returns and sklearn.LinearRegression fitted model\n",
    "    \n",
    "    \n",
    "    '''\n",
    "    split = -int(len(df[3])/3)\n",
    "    train = df[:split]\n",
    "    test = df[split:]\n",
    "    \n",
    "    X = df[['reversal', 'momentum']]\n",
    "    y = df[['logged_returns']]\n",
    "    \n",
    "    X_train, X_test,  y_train, y_test = X[:split], X[split:], y[:split], y[split:]\n",
    "    \n",
    "    model = LinearRegression()\n",
    "    model.fit(X_train,y_train)\n",
    "    model.predict(X_test)\n",
    "    pred_returns = pd.Series(model.predict(X_test).flatten(), index=y_test.index, name=pair)\n",
    "    \n",
    "    return {'returns':pred_returns, 'model': model}\n",
    "    \n",
    "def generate_predictions(currency_df):\n",
    "    '''\n",
    "    Calls factor generation and trade prediction routines\n",
    "    and constructs a dataframe of predicted returns \n",
    "    for each period and currency pair\n",
    "    \n",
    "    Final return dataframe is for an out of sample period only\n",
    "        \n",
    "    Parameters\n",
    "    ==========\n",
    "    currency_df: pd.DataFrame of period by currency pair\n",
    "    \n",
    "    Returns\n",
    "    =======\n",
    "    pd.DataFrame of period by currency pair\n",
    "    '''\n",
    "    \n",
    "    rets_list = []\n",
    "    for i in df_currency.columns:\n",
    "        df = df_currency[i]\n",
    "        #go through each column and generate a set of factors and predicted returns\n",
    "        res = compute_factors(df, i)\n",
    "        rets_list.append(compute_OLS(res, i)['returns'])\n",
    "    \n",
    "    return pd.concat(rets_list, axis=1)  \n",
    "\n",
    "\n",
    "def generate_trades(predictions_df):\n",
    "    '''\n",
    "    Takes a dataframe of period returns by currency pair\n",
    "    sorts them from highest to lowest and then assigns a value of \n",
    "    1/-1 to the highest/lowest values for each period. \n",
    "    \n",
    "    Long/short positions are not required. If the worst performing of \n",
    "    the period is positive, only a long is taken. Similarly, if all \n",
    "    period returns were negative only the most negative receives is marked \n",
    "    -1, indicating a short position. \n",
    "    \n",
    "    The trades are generated for the out of sample period. \n",
    "    \n",
    "    Parameters\n",
    "    ==========\n",
    "    predictions_df: pd.DataFrame of period by currency pair \n",
    "    \n",
    "    \n",
    "    Returns\n",
    "    =======\n",
    "    pd.DataFrame of period by currency pair\n",
    "    '''\n",
    "    trades = []\n",
    "    for i, row in pred_monthly_returns.iterrows():\n",
    "        _sorted = row.sort_values(axis=0,ascending=False)\n",
    "        #for condition that they the long is positive and the short is negative\n",
    "        if _sorted[0]*_sorted[-1] < 0:\n",
    "            trade = {_sorted.index[0]: 1,_sorted.index[-1]: -1}\n",
    "\n",
    "        elif _sorted[0] and _sorted[-1] > 0:\n",
    "            trade = {_sorted.index[0]: 1}\n",
    "\n",
    "        else: \n",
    "            trade = {_sorted.index[-1]: -1}\n",
    "        trades.append(trade)\n",
    "        \n",
    "    return pd.DataFrame(trades, index=pred_monthly_returns.index)"
   ]
  },
  {
   "cell_type": "code",
   "execution_count": 13,
   "metadata": {},
   "outputs": [
    {
     "ename": "KeyError",
     "evalue": "3",
     "output_type": "error",
     "traceback": [
      "\u001b[0;31m---------------------------------------------------------------------------\u001b[0m",
      "\u001b[0;31mKeyError\u001b[0m                                  Traceback (most recent call last)",
      "\u001b[0;32m~/miniconda3/envs/py35_trading/lib/python3.5/site-packages/pandas/core/indexes/base.py\u001b[0m in \u001b[0;36mget_loc\u001b[0;34m(self, key, method, tolerance)\u001b[0m\n\u001b[1;32m   2524\u001b[0m             \u001b[0;32mtry\u001b[0m\u001b[0;34m:\u001b[0m\u001b[0;34m\u001b[0m\u001b[0m\n\u001b[0;32m-> 2525\u001b[0;31m                 \u001b[0;32mreturn\u001b[0m \u001b[0mself\u001b[0m\u001b[0;34m.\u001b[0m\u001b[0m_engine\u001b[0m\u001b[0;34m.\u001b[0m\u001b[0mget_loc\u001b[0m\u001b[0;34m(\u001b[0m\u001b[0mkey\u001b[0m\u001b[0;34m)\u001b[0m\u001b[0;34m\u001b[0m\u001b[0m\n\u001b[0m\u001b[1;32m   2526\u001b[0m             \u001b[0;32mexcept\u001b[0m \u001b[0mKeyError\u001b[0m\u001b[0;34m:\u001b[0m\u001b[0;34m\u001b[0m\u001b[0m\n",
      "\u001b[0;32mpandas/_libs/index.pyx\u001b[0m in \u001b[0;36mpandas._libs.index.IndexEngine.get_loc\u001b[0;34m()\u001b[0m\n",
      "\u001b[0;32mpandas/_libs/index.pyx\u001b[0m in \u001b[0;36mpandas._libs.index.IndexEngine.get_loc\u001b[0;34m()\u001b[0m\n",
      "\u001b[0;32mpandas/_libs/hashtable_class_helper.pxi\u001b[0m in \u001b[0;36mpandas._libs.hashtable.PyObjectHashTable.get_item\u001b[0;34m()\u001b[0m\n",
      "\u001b[0;32mpandas/_libs/hashtable_class_helper.pxi\u001b[0m in \u001b[0;36mpandas._libs.hashtable.PyObjectHashTable.get_item\u001b[0;34m()\u001b[0m\n",
      "\u001b[0;31mKeyError\u001b[0m: 3",
      "\nDuring handling of the above exception, another exception occurred:\n",
      "\u001b[0;31mKeyError\u001b[0m                                  Traceback (most recent call last)",
      "\u001b[0;32m<ipython-input-13-19d90c7fc89a>\u001b[0m in \u001b[0;36m<module>\u001b[0;34m()\u001b[0m\n\u001b[0;32m----> 1\u001b[0;31m \u001b[0mpredictions\u001b[0m \u001b[0;34m=\u001b[0m \u001b[0mgenerate_predictions\u001b[0m\u001b[0;34m(\u001b[0m\u001b[0mdf_currency\u001b[0m\u001b[0;34m)\u001b[0m\u001b[0;34m\u001b[0m\u001b[0m\n\u001b[0m\u001b[1;32m      2\u001b[0m \u001b[0;31m#trades = generate_trades(predictions)\u001b[0m\u001b[0;34m\u001b[0m\u001b[0;34m\u001b[0m\u001b[0m\n",
      "\u001b[0;32m<ipython-input-12-e5aae149d25d>\u001b[0m in \u001b[0;36mgenerate_predictions\u001b[0;34m(currency_df)\u001b[0m\n\u001b[1;32m     96\u001b[0m         \u001b[0;31m#go through each column and generate a set of factors and predicted returns\u001b[0m\u001b[0;34m\u001b[0m\u001b[0;34m\u001b[0m\u001b[0m\n\u001b[1;32m     97\u001b[0m         \u001b[0mres\u001b[0m \u001b[0;34m=\u001b[0m \u001b[0mcompute_factors\u001b[0m\u001b[0;34m(\u001b[0m\u001b[0mdf\u001b[0m\u001b[0;34m,\u001b[0m \u001b[0mi\u001b[0m\u001b[0;34m)\u001b[0m\u001b[0;34m\u001b[0m\u001b[0m\n\u001b[0;32m---> 98\u001b[0;31m         \u001b[0mrets_list\u001b[0m\u001b[0;34m.\u001b[0m\u001b[0mappend\u001b[0m\u001b[0;34m(\u001b[0m\u001b[0mcompute_OLS\u001b[0m\u001b[0;34m(\u001b[0m\u001b[0mres\u001b[0m\u001b[0;34m,\u001b[0m \u001b[0mi\u001b[0m\u001b[0;34m)\u001b[0m\u001b[0;34m[\u001b[0m\u001b[0;34m'returns'\u001b[0m\u001b[0;34m]\u001b[0m\u001b[0;34m)\u001b[0m\u001b[0;34m\u001b[0m\u001b[0m\n\u001b[0m\u001b[1;32m     99\u001b[0m \u001b[0;34m\u001b[0m\u001b[0m\n\u001b[1;32m    100\u001b[0m     \u001b[0;32mreturn\u001b[0m \u001b[0mpd\u001b[0m\u001b[0;34m.\u001b[0m\u001b[0mconcat\u001b[0m\u001b[0;34m(\u001b[0m\u001b[0mrets_list\u001b[0m\u001b[0;34m,\u001b[0m \u001b[0maxis\u001b[0m\u001b[0;34m=\u001b[0m\u001b[0;36m1\u001b[0m\u001b[0;34m)\u001b[0m\u001b[0;34m\u001b[0m\u001b[0m\n",
      "\u001b[0;32m<ipython-input-12-e5aae149d25d>\u001b[0m in \u001b[0;36mcompute_OLS\u001b[0;34m(df, pair)\u001b[0m\n\u001b[1;32m     58\u001b[0m \u001b[0;34m\u001b[0m\u001b[0m\n\u001b[1;32m     59\u001b[0m     '''\n\u001b[0;32m---> 60\u001b[0;31m     \u001b[0msplit\u001b[0m \u001b[0;34m=\u001b[0m \u001b[0;34m-\u001b[0m\u001b[0mint\u001b[0m\u001b[0;34m(\u001b[0m\u001b[0mlen\u001b[0m\u001b[0;34m(\u001b[0m\u001b[0mdf\u001b[0m\u001b[0;34m[\u001b[0m\u001b[0;36m3\u001b[0m\u001b[0;34m]\u001b[0m\u001b[0;34m)\u001b[0m\u001b[0;34m/\u001b[0m\u001b[0;36m3\u001b[0m\u001b[0;34m)\u001b[0m\u001b[0;34m\u001b[0m\u001b[0m\n\u001b[0m\u001b[1;32m     61\u001b[0m     \u001b[0mtrain\u001b[0m \u001b[0;34m=\u001b[0m \u001b[0mdf\u001b[0m\u001b[0;34m[\u001b[0m\u001b[0;34m:\u001b[0m\u001b[0msplit\u001b[0m\u001b[0;34m]\u001b[0m\u001b[0;34m\u001b[0m\u001b[0m\n\u001b[1;32m     62\u001b[0m     \u001b[0mtest\u001b[0m \u001b[0;34m=\u001b[0m \u001b[0mdf\u001b[0m\u001b[0;34m[\u001b[0m\u001b[0msplit\u001b[0m\u001b[0;34m:\u001b[0m\u001b[0;34m]\u001b[0m\u001b[0;34m\u001b[0m\u001b[0m\n",
      "\u001b[0;32m~/miniconda3/envs/py35_trading/lib/python3.5/site-packages/pandas/core/frame.py\u001b[0m in \u001b[0;36m__getitem__\u001b[0;34m(self, key)\u001b[0m\n\u001b[1;32m   2137\u001b[0m             \u001b[0;32mreturn\u001b[0m \u001b[0mself\u001b[0m\u001b[0;34m.\u001b[0m\u001b[0m_getitem_multilevel\u001b[0m\u001b[0;34m(\u001b[0m\u001b[0mkey\u001b[0m\u001b[0;34m)\u001b[0m\u001b[0;34m\u001b[0m\u001b[0m\n\u001b[1;32m   2138\u001b[0m         \u001b[0;32melse\u001b[0m\u001b[0;34m:\u001b[0m\u001b[0;34m\u001b[0m\u001b[0m\n\u001b[0;32m-> 2139\u001b[0;31m             \u001b[0;32mreturn\u001b[0m \u001b[0mself\u001b[0m\u001b[0;34m.\u001b[0m\u001b[0m_getitem_column\u001b[0m\u001b[0;34m(\u001b[0m\u001b[0mkey\u001b[0m\u001b[0;34m)\u001b[0m\u001b[0;34m\u001b[0m\u001b[0m\n\u001b[0m\u001b[1;32m   2140\u001b[0m \u001b[0;34m\u001b[0m\u001b[0m\n\u001b[1;32m   2141\u001b[0m     \u001b[0;32mdef\u001b[0m \u001b[0m_getitem_column\u001b[0m\u001b[0;34m(\u001b[0m\u001b[0mself\u001b[0m\u001b[0;34m,\u001b[0m \u001b[0mkey\u001b[0m\u001b[0;34m)\u001b[0m\u001b[0;34m:\u001b[0m\u001b[0;34m\u001b[0m\u001b[0m\n",
      "\u001b[0;32m~/miniconda3/envs/py35_trading/lib/python3.5/site-packages/pandas/core/frame.py\u001b[0m in \u001b[0;36m_getitem_column\u001b[0;34m(self, key)\u001b[0m\n\u001b[1;32m   2144\u001b[0m         \u001b[0;31m# get column\u001b[0m\u001b[0;34m\u001b[0m\u001b[0;34m\u001b[0m\u001b[0m\n\u001b[1;32m   2145\u001b[0m         \u001b[0;32mif\u001b[0m \u001b[0mself\u001b[0m\u001b[0;34m.\u001b[0m\u001b[0mcolumns\u001b[0m\u001b[0;34m.\u001b[0m\u001b[0mis_unique\u001b[0m\u001b[0;34m:\u001b[0m\u001b[0;34m\u001b[0m\u001b[0m\n\u001b[0;32m-> 2146\u001b[0;31m             \u001b[0;32mreturn\u001b[0m \u001b[0mself\u001b[0m\u001b[0;34m.\u001b[0m\u001b[0m_get_item_cache\u001b[0m\u001b[0;34m(\u001b[0m\u001b[0mkey\u001b[0m\u001b[0;34m)\u001b[0m\u001b[0;34m\u001b[0m\u001b[0m\n\u001b[0m\u001b[1;32m   2147\u001b[0m \u001b[0;34m\u001b[0m\u001b[0m\n\u001b[1;32m   2148\u001b[0m         \u001b[0;31m# duplicate columns & possible reduce dimensionality\u001b[0m\u001b[0;34m\u001b[0m\u001b[0;34m\u001b[0m\u001b[0m\n",
      "\u001b[0;32m~/miniconda3/envs/py35_trading/lib/python3.5/site-packages/pandas/core/generic.py\u001b[0m in \u001b[0;36m_get_item_cache\u001b[0;34m(self, item)\u001b[0m\n\u001b[1;32m   1840\u001b[0m         \u001b[0mres\u001b[0m \u001b[0;34m=\u001b[0m \u001b[0mcache\u001b[0m\u001b[0;34m.\u001b[0m\u001b[0mget\u001b[0m\u001b[0;34m(\u001b[0m\u001b[0mitem\u001b[0m\u001b[0;34m)\u001b[0m\u001b[0;34m\u001b[0m\u001b[0m\n\u001b[1;32m   1841\u001b[0m         \u001b[0;32mif\u001b[0m \u001b[0mres\u001b[0m \u001b[0;32mis\u001b[0m \u001b[0;32mNone\u001b[0m\u001b[0;34m:\u001b[0m\u001b[0;34m\u001b[0m\u001b[0m\n\u001b[0;32m-> 1842\u001b[0;31m             \u001b[0mvalues\u001b[0m \u001b[0;34m=\u001b[0m \u001b[0mself\u001b[0m\u001b[0;34m.\u001b[0m\u001b[0m_data\u001b[0m\u001b[0;34m.\u001b[0m\u001b[0mget\u001b[0m\u001b[0;34m(\u001b[0m\u001b[0mitem\u001b[0m\u001b[0;34m)\u001b[0m\u001b[0;34m\u001b[0m\u001b[0m\n\u001b[0m\u001b[1;32m   1843\u001b[0m             \u001b[0mres\u001b[0m \u001b[0;34m=\u001b[0m \u001b[0mself\u001b[0m\u001b[0;34m.\u001b[0m\u001b[0m_box_item_values\u001b[0m\u001b[0;34m(\u001b[0m\u001b[0mitem\u001b[0m\u001b[0;34m,\u001b[0m \u001b[0mvalues\u001b[0m\u001b[0;34m)\u001b[0m\u001b[0;34m\u001b[0m\u001b[0m\n\u001b[1;32m   1844\u001b[0m             \u001b[0mcache\u001b[0m\u001b[0;34m[\u001b[0m\u001b[0mitem\u001b[0m\u001b[0;34m]\u001b[0m \u001b[0;34m=\u001b[0m \u001b[0mres\u001b[0m\u001b[0;34m\u001b[0m\u001b[0m\n",
      "\u001b[0;32m~/miniconda3/envs/py35_trading/lib/python3.5/site-packages/pandas/core/internals.py\u001b[0m in \u001b[0;36mget\u001b[0;34m(self, item, fastpath)\u001b[0m\n\u001b[1;32m   3841\u001b[0m \u001b[0;34m\u001b[0m\u001b[0m\n\u001b[1;32m   3842\u001b[0m             \u001b[0;32mif\u001b[0m \u001b[0;32mnot\u001b[0m \u001b[0misna\u001b[0m\u001b[0;34m(\u001b[0m\u001b[0mitem\u001b[0m\u001b[0;34m)\u001b[0m\u001b[0;34m:\u001b[0m\u001b[0;34m\u001b[0m\u001b[0m\n\u001b[0;32m-> 3843\u001b[0;31m                 \u001b[0mloc\u001b[0m \u001b[0;34m=\u001b[0m \u001b[0mself\u001b[0m\u001b[0;34m.\u001b[0m\u001b[0mitems\u001b[0m\u001b[0;34m.\u001b[0m\u001b[0mget_loc\u001b[0m\u001b[0;34m(\u001b[0m\u001b[0mitem\u001b[0m\u001b[0;34m)\u001b[0m\u001b[0;34m\u001b[0m\u001b[0m\n\u001b[0m\u001b[1;32m   3844\u001b[0m             \u001b[0;32melse\u001b[0m\u001b[0;34m:\u001b[0m\u001b[0;34m\u001b[0m\u001b[0m\n\u001b[1;32m   3845\u001b[0m                 \u001b[0mindexer\u001b[0m \u001b[0;34m=\u001b[0m \u001b[0mnp\u001b[0m\u001b[0;34m.\u001b[0m\u001b[0marange\u001b[0m\u001b[0;34m(\u001b[0m\u001b[0mlen\u001b[0m\u001b[0;34m(\u001b[0m\u001b[0mself\u001b[0m\u001b[0;34m.\u001b[0m\u001b[0mitems\u001b[0m\u001b[0;34m)\u001b[0m\u001b[0;34m)\u001b[0m\u001b[0;34m[\u001b[0m\u001b[0misna\u001b[0m\u001b[0;34m(\u001b[0m\u001b[0mself\u001b[0m\u001b[0;34m.\u001b[0m\u001b[0mitems\u001b[0m\u001b[0;34m)\u001b[0m\u001b[0;34m]\u001b[0m\u001b[0;34m\u001b[0m\u001b[0m\n",
      "\u001b[0;32m~/miniconda3/envs/py35_trading/lib/python3.5/site-packages/pandas/core/indexes/base.py\u001b[0m in \u001b[0;36mget_loc\u001b[0;34m(self, key, method, tolerance)\u001b[0m\n\u001b[1;32m   2525\u001b[0m                 \u001b[0;32mreturn\u001b[0m \u001b[0mself\u001b[0m\u001b[0;34m.\u001b[0m\u001b[0m_engine\u001b[0m\u001b[0;34m.\u001b[0m\u001b[0mget_loc\u001b[0m\u001b[0;34m(\u001b[0m\u001b[0mkey\u001b[0m\u001b[0;34m)\u001b[0m\u001b[0;34m\u001b[0m\u001b[0m\n\u001b[1;32m   2526\u001b[0m             \u001b[0;32mexcept\u001b[0m \u001b[0mKeyError\u001b[0m\u001b[0;34m:\u001b[0m\u001b[0;34m\u001b[0m\u001b[0m\n\u001b[0;32m-> 2527\u001b[0;31m                 \u001b[0;32mreturn\u001b[0m \u001b[0mself\u001b[0m\u001b[0;34m.\u001b[0m\u001b[0m_engine\u001b[0m\u001b[0;34m.\u001b[0m\u001b[0mget_loc\u001b[0m\u001b[0;34m(\u001b[0m\u001b[0mself\u001b[0m\u001b[0;34m.\u001b[0m\u001b[0m_maybe_cast_indexer\u001b[0m\u001b[0;34m(\u001b[0m\u001b[0mkey\u001b[0m\u001b[0;34m)\u001b[0m\u001b[0;34m)\u001b[0m\u001b[0;34m\u001b[0m\u001b[0m\n\u001b[0m\u001b[1;32m   2528\u001b[0m \u001b[0;34m\u001b[0m\u001b[0m\n\u001b[1;32m   2529\u001b[0m         \u001b[0mindexer\u001b[0m \u001b[0;34m=\u001b[0m \u001b[0mself\u001b[0m\u001b[0;34m.\u001b[0m\u001b[0mget_indexer\u001b[0m\u001b[0;34m(\u001b[0m\u001b[0;34m[\u001b[0m\u001b[0mkey\u001b[0m\u001b[0;34m]\u001b[0m\u001b[0;34m,\u001b[0m \u001b[0mmethod\u001b[0m\u001b[0;34m=\u001b[0m\u001b[0mmethod\u001b[0m\u001b[0;34m,\u001b[0m \u001b[0mtolerance\u001b[0m\u001b[0;34m=\u001b[0m\u001b[0mtolerance\u001b[0m\u001b[0;34m)\u001b[0m\u001b[0;34m\u001b[0m\u001b[0m\n",
      "\u001b[0;32mpandas/_libs/index.pyx\u001b[0m in \u001b[0;36mpandas._libs.index.IndexEngine.get_loc\u001b[0;34m()\u001b[0m\n",
      "\u001b[0;32mpandas/_libs/index.pyx\u001b[0m in \u001b[0;36mpandas._libs.index.IndexEngine.get_loc\u001b[0;34m()\u001b[0m\n",
      "\u001b[0;32mpandas/_libs/hashtable_class_helper.pxi\u001b[0m in \u001b[0;36mpandas._libs.hashtable.PyObjectHashTable.get_item\u001b[0;34m()\u001b[0m\n",
      "\u001b[0;32mpandas/_libs/hashtable_class_helper.pxi\u001b[0m in \u001b[0;36mpandas._libs.hashtable.PyObjectHashTable.get_item\u001b[0;34m()\u001b[0m\n",
      "\u001b[0;31mKeyError\u001b[0m: 3"
     ]
    }
   ],
   "source": [
    "predictions = generate_predictions(df_currency)\n",
    "#trades = generate_trades(predictions)"
   ]
  },
  {
   "cell_type": "code",
   "execution_count": 7,
   "metadata": {},
   "outputs": [],
   "source": [
    "actual_returns_test_period = df_currency.resample('BM').apply(lambda x: x[-1])[-60:]\n",
    "pair_rets = []\n",
    "for c in actual_returns_test_period.columns:\n",
    "    pair_rets.append(compute_returns(actual_returns_test_period[c], c))\n",
    "    \n",
    "ctd_returns_test = pd.concat(pair_rets, axis=1)"
   ]
  },
  {
   "cell_type": "code",
   "execution_count": 9,
   "metadata": {},
   "outputs": [
    {
     "ename": "NameError",
     "evalue": "name 'trades' is not defined",
     "output_type": "error",
     "traceback": [
      "\u001b[0;31m---------------------------------------------------------------------------\u001b[0m",
      "\u001b[0;31mNameError\u001b[0m                                 Traceback (most recent call last)",
      "\u001b[0;32m<ipython-input-9-2902523a95ca>\u001b[0m in \u001b[0;36m<module>\u001b[0;34m()\u001b[0m\n\u001b[0;32m----> 1\u001b[0;31m \u001b[0mreturn_status\u001b[0m \u001b[0;34m=\u001b[0m \u001b[0mctd_returns_test\u001b[0m\u001b[0;34m[\u001b[0m\u001b[0;36m1\u001b[0m\u001b[0;34m:\u001b[0m\u001b[0;34m]\u001b[0m\u001b[0;34m*\u001b[0m\u001b[0mtrades\u001b[0m\u001b[0;34m\u001b[0m\u001b[0m\n\u001b[0m\u001b[1;32m      2\u001b[0m \u001b[0mreturn_status\u001b[0m\u001b[0;34m[\u001b[0m\u001b[0;34m'summed'\u001b[0m\u001b[0;34m]\u001b[0m \u001b[0;34m=\u001b[0m \u001b[0mreturn_status\u001b[0m\u001b[0;34m.\u001b[0m\u001b[0msum\u001b[0m\u001b[0;34m(\u001b[0m\u001b[0maxis\u001b[0m\u001b[0;34m=\u001b[0m\u001b[0;36m1\u001b[0m\u001b[0;34m)\u001b[0m\u001b[0;34m\u001b[0m\u001b[0m\n",
      "\u001b[0;31mNameError\u001b[0m: name 'trades' is not defined"
     ]
    }
   ],
   "source": [
    "return_status = ctd_returns_test[1:]*trades\n",
    "return_status['summed'] = return_status.sum(axis=1)"
   ]
  },
  {
   "cell_type": "code",
   "execution_count": null,
   "metadata": {},
   "outputs": [],
   "source": [
    "return_status['summed'].cumsum().plot()"
   ]
  },
  {
   "cell_type": "code",
   "execution_count": null,
   "metadata": {},
   "outputs": [],
   "source": [
    "resampled = df_currency.resample('BM').apply(lambda x: x[-1])"
   ]
  },
  {
   "cell_type": "markdown",
   "metadata": {},
   "source": [
    "##### How does each perform? Let's try and figure out where the bad performance may be coming from."
   ]
  },
  {
   "cell_type": "code",
   "execution_count": null,
   "metadata": {},
   "outputs": [],
   "source": [
    "resampled['usd_gbp'][-60:].plot()"
   ]
  },
  {
   "cell_type": "code",
   "execution_count": null,
   "metadata": {},
   "outputs": [],
   "source": [
    "resampled.columns"
   ]
  },
  {
   "cell_type": "code",
   "execution_count": null,
   "metadata": {},
   "outputs": [],
   "source": [
    "resampled['cad_usd'][-60:].plot()"
   ]
  },
  {
   "cell_type": "code",
   "execution_count": null,
   "metadata": {},
   "outputs": [],
   "source": [
    "resampled['eur_usd'][-60:].plot()"
   ]
  },
  {
   "cell_type": "code",
   "execution_count": null,
   "metadata": {},
   "outputs": [],
   "source": [
    "resampled['aus_usd'][-60:].plot()"
   ]
  },
  {
   "cell_type": "code",
   "execution_count": null,
   "metadata": {},
   "outputs": [],
   "source": [
    "resampled['jpy_usd'][-60:].plot()"
   ]
  },
  {
   "cell_type": "code",
   "execution_count": null,
   "metadata": {},
   "outputs": [],
   "source": []
  }
 ],
 "metadata": {
  "kernelspec": {
   "display_name": "Python [conda env:py35_trading]",
   "language": "python",
   "name": "conda-env-py35_trading-py"
  },
  "language_info": {
   "codemirror_mode": {
    "name": "ipython",
    "version": 3
   },
   "file_extension": ".py",
   "mimetype": "text/x-python",
   "name": "python",
   "nbconvert_exporter": "python",
   "pygments_lexer": "ipython3",
   "version": "3.5.6"
  }
 },
 "nbformat": 4,
 "nbformat_minor": 2
}
