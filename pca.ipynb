{
 "cells": [
  {
   "cell_type": "code",
   "execution_count": null,
   "metadata": {},
   "outputs": [],
   "source": [
    "# drop missing prices and generate returns\n",
    "\n",
    "prices = get_pricing(stocks, '2014-05-01', '2015-05-01',fields='price').dropna(axis=1)\n",
    "returns = prices.pct_change().dropna()\n",
    "\n",
    "# create an new matrix of normalized returns\n",
    "Y = np.copy(returns.values)\n",
    "(row, col) = np.shape(Y)\n",
    "    \n",
    "#zscored values \n",
    "for j in range(0,col):\n",
    "    mean = np.mean(Y[:,j])\n",
    "    std = np.std(Y[:,j])\n",
    "    for i in range(0, row):\n",
    "        Y[i,j] = (Y[i,j] - mean) / std\n",
    "        \n",
    "# compute correlation matrix\n",
    "corr = np.dot(Y.T, Y) / (row - 1)\n",
    "\n",
    "# eigen decompose and sort by desc order\n",
    "eigval,eigv = np.linalg.eig(corr)\n",
    "sortedindex = eigval.argsort()[::-1]\n",
    "eigv = eigv[:,sortedindex] "
   ]
  },
  {
   "cell_type": "code",
   "execution_count": null,
   "metadata": {},
   "outputs": [],
   "source": [
    "cumeigval = np.cumsum(eigval)\n",
    "plt.plot(cumeigval)"
   ]
  },
  {
   "cell_type": "code",
   "execution_count": null,
   "metadata": {},
   "outputs": [],
   "source": [
    "# take first 60 eigen vectors\n",
    "eigv = eigv[:, :60]\n",
    "\n",
    "# convert complex to real numbers and normalize eigenvectors to unit vectors\n",
    "eigvec = np.zeros(np.shape(eigv))\n",
    "    \n",
    "for i in range(0, np.shape(eigv)[0]):\n",
    "    for j in range(0, np.shape(eigv)[1]):\n",
    "        eigvec[i,j] = eigv[i,j].real / np.std(returns.values[:,i])\n",
    "\n",
    "for i in range(0, np.shape(eigvec)[1]):\n",
    "    eigvec[:,i] = eigvec[:,i] / np.sum(np.abs(eigvec[:,i]))\n",
    "    \n",
    "# compute eigen returns            \n",
    "eigret = np.dot(returns.values, eigvec)"
   ]
  },
  {
   "cell_type": "code",
   "execution_count": null,
   "metadata": {},
   "outputs": [],
   "source": [
    "def fit_OU(ts):\n",
    "    X = smapi.add_constant(ts[:-1])\n",
    "    model = smapi.OLS(ts[1:], X)\n",
    "    results = model.fit()\n",
    "    b = results.params[1]\n",
    "    a = results.params[0]\n",
    "    e = np.std(results.resid)\n",
    "    k = -math.log(b) * 252\n",
    "    var = e**2 / (2*k) * (1 - math.exp(-2 * k))\n",
    "    num = -a * np.sqrt(1-b**2)\n",
    "    den = (1-b) * np.sqrt(var)\n",
    "    return num / den, 0. "
   ]
  },
  {
   "cell_type": "code",
   "execution_count": null,
   "metadata": {},
   "outputs": [],
   "source": [
    "for s in returns:\n",
    "    # regress stock returns on eigen portfolio returns\n",
    "    results = smapi.OLS(returns[s].values, smapi.add_constant(eigret)).fit()\n",
    "    b = results.params\n",
    "    cumresid = np.cumsum(results.resid)\n",
    "    score, hf = fit_OU(cumresid) # fit OU \n",
    "        \n",
    "    if abs(score) > 2 and sm.tsa.stattools.adfuller(cumresid)[1] < 0.01:\n",
    "        plt.plot(np.cumsum(results.resid))\n",
    "        break"
   ]
  }
 ],
 "metadata": {
  "kernelspec": {
   "display_name": "Python [conda env:py35_trading]",
   "language": "python",
   "name": "conda-env-py35_trading-py"
  },
  "language_info": {
   "codemirror_mode": {
    "name": "ipython",
    "version": 3
   },
   "file_extension": ".py",
   "mimetype": "text/x-python",
   "name": "python",
   "nbconvert_exporter": "python",
   "pygments_lexer": "ipython3",
   "version": "3.5.6"
  }
 },
 "nbformat": 4,
 "nbformat_minor": 2
}
